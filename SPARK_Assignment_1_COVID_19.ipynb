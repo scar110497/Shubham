{
  "nbformat": 4,
  "nbformat_minor": 0,
  "metadata": {
    "colab": {
      "provenance": [],
      "authorship_tag": "ABX9TyP3pFKW/gwCyZaIV64Aoqn7",
      "include_colab_link": true
    },
    "kernelspec": {
      "name": "python3",
      "display_name": "Python 3"
    },
    "language_info": {
      "name": "python"
    }
  },
  "cells": [
    {
      "cell_type": "markdown",
      "metadata": {
        "id": "view-in-github",
        "colab_type": "text"
      },
      "source": [
        "<a href=\"https://colab.research.google.com/github/scar110497/Shubham/blob/main/SPARK_Assignment_1_COVID_19.ipynb\" target=\"_parent\"><img src=\"https://colab.research.google.com/assets/colab-badge.svg\" alt=\"Open In Colab\"/></a>"
      ]
    },
    {
      "cell_type": "code",
      "execution_count": null,
      "metadata": {
        "id": "EEVW-9Zz8hP2"
      },
      "outputs": [],
      "source": [
        "#install Apache Spark 3.0.1 with Hadoop 2.7 from here.\n",
        "!wget https://archive.apache.org/dist/spark/spark-3.0.0/spark-3.0.0-bin-hadoop2.7.tgz\n",
        "\n",
        "# Now, we just need to unzip that folder.\n",
        "!tar -xvzf spark-3.0.0-bin-hadoop2.7.tgz\n",
        "!pip install findspark\n",
        "\n",
        "\n",
        "import os\n",
        "os.environ[\"SPARK_HOME\"] = \"/content/spark-3.0.0-bin-hadoop2.7\"\n",
        "import findspark\n",
        "findspark.init()"
      ]
    },
    {
      "cell_type": "code",
      "source": [
        "from pyspark.sql import SparkSession\n",
        "from pyspark.sql.types import LongType, StringType, StructField, StructType, BooleanType, ArrayType, IntegerType, DoubleType\n",
        "spark = SparkSession.builder.master(\"local\").appName(\"SparkDemoApp\").getOrCreate()\n",
        "sc = spark.sparkContext\n",
        "print(type(spark))"
      ],
      "metadata": {
        "colab": {
          "base_uri": "https://localhost:8080/"
        },
        "id": "Pn-WlzI29BO7",
        "outputId": "eeccdd34-267d-42b1-fda8-704f863630e9"
      },
      "execution_count": 46,
      "outputs": [
        {
          "output_type": "stream",
          "name": "stdout",
          "text": [
            "<class 'pyspark.sql.session.SparkSession'>\n"
          ]
        }
      ]
    },
    {
      "cell_type": "code",
      "source": [
        "#Load the covid 19 data in to a spark dataframe (country_wise_latest.csv) with the correct schema definition\n",
        "\n",
        "schema = StructType([\n",
        "    StructField(\"Country/Region\", StringType()),\n",
        "    StructField(\"Confirmed\", IntegerType()),\n",
        "    StructField(\"Deaths\", IntegerType()),\n",
        "    StructField(\"Recovered\", IntegerType()),\n",
        "    StructField(\"Active\", IntegerType()),\n",
        "    StructField(\"New cases\", IntegerType()),\n",
        "    StructField(\"New deaths\", IntegerType()),\n",
        "    StructField(\"New recovered\", IntegerType()),\n",
        "    StructField(\"Deaths / 100 Cases\", DoubleType()),\n",
        "    StructField(\"Recovered / 100 Cases\", DoubleType()),\n",
        "    StructField(\"Deaths / 100 Recovered\", DoubleType()),\n",
        "    StructField(\"Confirmed last week\", IntegerType()),\n",
        "    StructField(\"1 week change\", IntegerType()),\n",
        "    StructField(\"1 week % increase\", DoubleType()),\n",
        "    StructField(\"WHO Region\", StringType())\n",
        "])\n",
        "user_df=spark.read.csv(path='/content/country_wise_latest.csv', header=True, schema=schema)\n",
        "user_df.show()\n",
        "\n",
        "#The are some column names which are long, contains special characters, spaces etc. Rename all such column names accordingly. Example Country/Region → country New cases → New_cases etc\n",
        "renamed_user_df = user_df.withColumnRenamed(\"Country/Region\", \"Country_Reg\").withColumnRenamed(\"New cases\", \"New_Cases\").withColumnRenamed(\"New deaths\", \"New_deaths\").withColumnRenamed(\"New recovered\", \"New_recovered\").withColumnRenamed(\"Deaths / 100 Cases\", \"Deaths_100cases\").withColumnRenamed(\"Recovered / 100 Cases\", \"Recovered_100cases\").withColumnRenamed(\"Deaths / 100 Recovered\", \"Deaths_100Recovered\").withColumnRenamed(\"Confirmed last week\", \"Confirmed_last_week\").withColumnRenamed(\"1 week change\", \"1_week_change\").withColumnRenamed(\"1 week % increase\", \"1_week_per_increase\").withColumnRenamed(\"WHO Region\", \"WHO_Region\")\n",
        "renamed_user_df.show()\n",
        "\n",
        "\n"
      ],
      "metadata": {
        "colab": {
          "base_uri": "https://localhost:8080/"
        },
        "id": "x7vjuWTLF9Iv",
        "outputId": "b458e035-0373-4be0-ca9c-c40da62250bb"
      },
      "execution_count": 49,
      "outputs": [
        {
          "output_type": "stream",
          "name": "stdout",
          "text": [
            "+-------------------+---------+------+---------+------+---------+----------+-------------+------------------+---------------------+----------------------+-------------------+-------------+-----------------+--------------------+\n",
            "|     Country/Region|Confirmed|Deaths|Recovered|Active|New cases|New deaths|New recovered|Deaths / 100 Cases|Recovered / 100 Cases|Deaths / 100 Recovered|Confirmed last week|1 week change|1 week % increase|          WHO Region|\n",
            "+-------------------+---------+------+---------+------+---------+----------+-------------+------------------+---------------------+----------------------+-------------------+-------------+-----------------+--------------------+\n",
            "|        Afghanistan|    36263|  1269|    25198|  9796|      106|        10|           18|               3.5|                69.49|                  5.04|              35526|          737|             2.07|Eastern Mediterra...|\n",
            "|            Albania|     4880|   144|     2745|  1991|      117|         6|           63|              2.95|                56.25|                  5.25|               4171|          709|             17.0|              Europe|\n",
            "|            Algeria|    27973|  1163|    18837|  7973|      616|         8|          749|              4.16|                67.34|                  6.17|              23691|         4282|            18.07|              Africa|\n",
            "|            Andorra|      907|    52|      803|    52|       10|         0|            0|              5.73|                88.53|                  6.48|                884|           23|              2.6|              Europe|\n",
            "|             Angola|      950|    41|      242|   667|       18|         1|            0|              4.32|                25.47|                 16.94|                749|          201|            26.84|              Africa|\n",
            "|Antigua and Barbuda|       86|     3|       65|    18|        4|         0|            5|              3.49|                75.58|                  4.62|                 76|           10|            13.16|            Americas|\n",
            "|          Argentina|   167416|  3059|    72575| 91782|     4890|       120|         2057|              1.83|                43.35|                  4.21|             130774|        36642|            28.02|            Americas|\n",
            "|            Armenia|    37390|   711|    26665| 10014|       73|         6|          187|               1.9|                71.32|                  2.67|              34981|         2409|             6.89|              Europe|\n",
            "|          Australia|    15303|   167|     9311|  5825|      368|         6|          137|              1.09|                60.84|                  1.79|              12428|         2875|            23.13|     Western Pacific|\n",
            "|            Austria|    20558|   713|    18246|  1599|       86|         1|           37|              3.47|                88.75|                  3.91|              19743|          815|             4.13|              Europe|\n",
            "|         Azerbaijan|    30446|   423|    23242|  6781|      396|         6|          558|              1.39|                76.34|                  1.82|              27890|         2556|             9.16|              Europe|\n",
            "|            Bahamas|      382|    11|       91|   280|       40|         0|            0|              2.88|                23.82|                 12.09|                174|          208|           119.54|            Americas|\n",
            "|            Bahrain|    39482|   141|    36110|  3231|      351|         1|          421|              0.36|                91.46|                  0.39|              36936|         2546|             6.89|Eastern Mediterra...|\n",
            "|         Bangladesh|   226225|  2965|   125683| 97577|     2772|        37|         1801|              1.31|                55.56|                  2.36|             207453|        18772|             9.05|     South-East Asia|\n",
            "|           Barbados|      110|     7|       94|     9|        0|         0|            0|              6.36|                85.45|                  7.45|                106|            4|             3.77|            Americas|\n",
            "|            Belarus|    67251|   538|    60492|  6221|      119|         4|           67|               0.8|                89.95|                  0.89|              66213|         1038|             1.57|              Europe|\n",
            "|            Belgium|    66428|  9822|    17452| 39154|      402|         1|           14|             14.79|                26.27|                 56.28|              64094|         2334|             3.64|              Europe|\n",
            "|             Belize|       48|     2|       26|    20|        0|         0|            0|              4.17|                54.17|                  7.69|                 40|            8|             20.0|            Americas|\n",
            "|              Benin|     1770|    35|     1036|   699|        0|         0|            0|              1.98|                58.53|                  3.38|               1602|          168|            10.49|              Africa|\n",
            "|             Bhutan|       99|     0|       86|    13|        4|         0|            1|               0.0|                86.87|                   0.0|                 90|            9|             10.0|     South-East Asia|\n",
            "+-------------------+---------+------+---------+------+---------+----------+-------------+------------------+---------------------+----------------------+-------------------+-------------+-----------------+--------------------+\n",
            "only showing top 20 rows\n",
            "\n",
            "+-------------------+---------+------+---------+------+---------+----------+-------------+---------------+------------------+-------------------+-------------------+-------------+-------------------+--------------------+\n",
            "|        Country_Reg|Confirmed|Deaths|Recovered|Active|New_Cases|New_deaths|New_recovered|Deaths_100cases|Recovered_100cases|Deaths_100Recovered|Confirmed_last_week|1_week_change|1_week_per_increase|          WHO_Region|\n",
            "+-------------------+---------+------+---------+------+---------+----------+-------------+---------------+------------------+-------------------+-------------------+-------------+-------------------+--------------------+\n",
            "|        Afghanistan|    36263|  1269|    25198|  9796|      106|        10|           18|            3.5|             69.49|               5.04|              35526|          737|               2.07|Eastern Mediterra...|\n",
            "|            Albania|     4880|   144|     2745|  1991|      117|         6|           63|           2.95|             56.25|               5.25|               4171|          709|               17.0|              Europe|\n",
            "|            Algeria|    27973|  1163|    18837|  7973|      616|         8|          749|           4.16|             67.34|               6.17|              23691|         4282|              18.07|              Africa|\n",
            "|            Andorra|      907|    52|      803|    52|       10|         0|            0|           5.73|             88.53|               6.48|                884|           23|                2.6|              Europe|\n",
            "|             Angola|      950|    41|      242|   667|       18|         1|            0|           4.32|             25.47|              16.94|                749|          201|              26.84|              Africa|\n",
            "|Antigua and Barbuda|       86|     3|       65|    18|        4|         0|            5|           3.49|             75.58|               4.62|                 76|           10|              13.16|            Americas|\n",
            "|          Argentina|   167416|  3059|    72575| 91782|     4890|       120|         2057|           1.83|             43.35|               4.21|             130774|        36642|              28.02|            Americas|\n",
            "|            Armenia|    37390|   711|    26665| 10014|       73|         6|          187|            1.9|             71.32|               2.67|              34981|         2409|               6.89|              Europe|\n",
            "|          Australia|    15303|   167|     9311|  5825|      368|         6|          137|           1.09|             60.84|               1.79|              12428|         2875|              23.13|     Western Pacific|\n",
            "|            Austria|    20558|   713|    18246|  1599|       86|         1|           37|           3.47|             88.75|               3.91|              19743|          815|               4.13|              Europe|\n",
            "|         Azerbaijan|    30446|   423|    23242|  6781|      396|         6|          558|           1.39|             76.34|               1.82|              27890|         2556|               9.16|              Europe|\n",
            "|            Bahamas|      382|    11|       91|   280|       40|         0|            0|           2.88|             23.82|              12.09|                174|          208|             119.54|            Americas|\n",
            "|            Bahrain|    39482|   141|    36110|  3231|      351|         1|          421|           0.36|             91.46|               0.39|              36936|         2546|               6.89|Eastern Mediterra...|\n",
            "|         Bangladesh|   226225|  2965|   125683| 97577|     2772|        37|         1801|           1.31|             55.56|               2.36|             207453|        18772|               9.05|     South-East Asia|\n",
            "|           Barbados|      110|     7|       94|     9|        0|         0|            0|           6.36|             85.45|               7.45|                106|            4|               3.77|            Americas|\n",
            "|            Belarus|    67251|   538|    60492|  6221|      119|         4|           67|            0.8|             89.95|               0.89|              66213|         1038|               1.57|              Europe|\n",
            "|            Belgium|    66428|  9822|    17452| 39154|      402|         1|           14|          14.79|             26.27|              56.28|              64094|         2334|               3.64|              Europe|\n",
            "|             Belize|       48|     2|       26|    20|        0|         0|            0|           4.17|             54.17|               7.69|                 40|            8|               20.0|            Americas|\n",
            "|              Benin|     1770|    35|     1036|   699|        0|         0|            0|           1.98|             58.53|               3.38|               1602|          168|              10.49|              Africa|\n",
            "|             Bhutan|       99|     0|       86|    13|        4|         0|            1|            0.0|             86.87|                0.0|                 90|            9|               10.0|     South-East Asia|\n",
            "+-------------------+---------+------+---------+------+---------+----------+-------------+---------------+------------------+-------------------+-------------------+-------------+-------------------+--------------------+\n",
            "only showing top 20 rows\n",
            "\n"
          ]
        }
      ]
    },
    {
      "cell_type": "code",
      "source": [
        "# Count and check if there any null values in any of the columns\n",
        "\n",
        "for column in renamed_user_df.columns:\n",
        "    null_count = renamed_user_df.where(renamed_user_df[column].isNull()).count()\n",
        "    print(f\"Column '{column}' has {null_count} null values.\")\n",
        "\n",
        "total_null_count = renamed_user_df.na.drop().count()\n",
        "print(f\"\\nTotal null values in the DataFrame: {total_null_count}\")"
      ],
      "metadata": {
        "colab": {
          "base_uri": "https://localhost:8080/"
        },
        "id": "CrB7NZw0aCKW",
        "outputId": "d8ca5203-1471-4f60-e10f-d7738c77e069"
      },
      "execution_count": 50,
      "outputs": [
        {
          "output_type": "stream",
          "name": "stdout",
          "text": [
            "Column 'Country_Reg' has 0 null values.\n",
            "Column 'Confirmed' has 0 null values.\n",
            "Column 'Deaths' has 0 null values.\n",
            "Column 'Recovered' has 0 null values.\n",
            "Column 'Active' has 0 null values.\n",
            "Column 'New_Cases' has 0 null values.\n",
            "Column 'New_deaths' has 0 null values.\n",
            "Column 'New_recovered' has 0 null values.\n",
            "Column 'Deaths_100cases' has 0 null values.\n",
            "Column 'Recovered_100cases' has 0 null values.\n",
            "Column 'Deaths_100Recovered' has 5 null values.\n",
            "Column 'Confirmed_last_week' has 0 null values.\n",
            "Column '1_week_change' has 0 null values.\n",
            "Column '1_week_per_increase' has 0 null values.\n",
            "Column 'WHO_Region' has 0 null values.\n",
            "\n",
            "Total null values in the DataFrame: 182\n"
          ]
        }
      ]
    },
    {
      "cell_type": "code",
      "source": [
        "#What are the top 10 countries under the WHO region with covid 19 Confirmed cases\n",
        "\n",
        "\n",
        "from pyspark.sql import SparkSession\n",
        "from pyspark.sql.functions import *\n",
        "\n",
        "top_10 = (renamed_user_df.groupBy(\"WHO_Region\", \"Country_Reg\") .agg(\n",
        "    max(\"Confirmed\").alias(\"max_confirmed\")).orderBy(\"max_confirmed\", ascending=False)\n",
        "    .limit(10))\n",
        "\n",
        "top_10.show(truncate=False)"
      ],
      "metadata": {
        "colab": {
          "base_uri": "https://localhost:8080/"
        },
        "id": "jFrXcLUQblyD",
        "outputId": "92fa8ad8-ed32-48fc-a930-151f6d018676"
      },
      "execution_count": 54,
      "outputs": [
        {
          "output_type": "stream",
          "name": "stdout",
          "text": [
            "+---------------------+--------------+-------------+\n",
            "|WHO_Region           |Country_Reg   |max_confirmed|\n",
            "+---------------------+--------------+-------------+\n",
            "|Americas             |US            |4290259      |\n",
            "|Americas             |Brazil        |2442375      |\n",
            "|South-East Asia      |India         |1480073      |\n",
            "|Europe               |Russia        |816680       |\n",
            "|Africa               |South Africa  |452529       |\n",
            "|Americas             |Mexico        |395489       |\n",
            "|Americas             |Peru          |389717       |\n",
            "|Americas             |Chile         |347923       |\n",
            "|Europe               |United Kingdom|301708       |\n",
            "|Eastern Mediterranean|Iran          |293606       |\n",
            "+---------------------+--------------+-------------+\n",
            "\n"
          ]
        }
      ]
    },
    {
      "cell_type": "code",
      "source": [
        "#What are the bottom 10 countries under the WHO region with covid 19 Confirmed cases\n",
        "\n",
        "from pyspark.sql import SparkSession\n",
        "from pyspark.sql.functions import *\n",
        "\n",
        "top_10 = (renamed_user_df.groupBy(\"WHO_Region\", \"Country_Reg\") .agg(\n",
        "    max(\"Confirmed\").alias(\"max_confirmed\")).orderBy(\"max_confirmed\", ascending=True)\n",
        "    .limit(10))\n",
        "\n",
        "top_10.show(truncate=False)"
      ],
      "metadata": {
        "colab": {
          "base_uri": "https://localhost:8080/"
        },
        "id": "N3WZnsza29E1",
        "outputId": "4be3c372-7356-47bf-c640-f8432e507b37"
      },
      "execution_count": 55,
      "outputs": [
        {
          "output_type": "stream",
          "name": "stdout",
          "text": [
            "+---------------+---------------------+-------------+\n",
            "|WHO_Region     |Country_Reg          |max_confirmed|\n",
            "+---------------+---------------------+-------------+\n",
            "|Africa         |Western Sahara       |10           |\n",
            "|Europe         |Holy See             |12           |\n",
            "|Europe         |Greenland            |14           |\n",
            "|Americas       |Saint Kitts and Nevis|17           |\n",
            "|Americas       |Dominica             |18           |\n",
            "|Western Pacific|Laos                 |20           |\n",
            "|Americas       |Grenada              |23           |\n",
            "|Americas       |Saint Lucia          |24           |\n",
            "|South-East Asia|Timor-Leste          |24           |\n",
            "|Western Pacific|Fiji                 |27           |\n",
            "+---------------+---------------------+-------------+\n",
            "\n"
          ]
        }
      ]
    },
    {
      "cell_type": "code",
      "source": [
        "#What are the total number of countries/ total no. of WHO regions and also list the various WHO regions\n",
        "\n",
        "from pyspark.sql import SparkSession\n",
        "from pyspark.sql.functions import *\n",
        "\n",
        "Country_Total = renamed_user_df.select(\"Country_Reg\").distinct().count()\n",
        "WHO_Total = renamed_user_df.select(\"WHO_Region\").distinct().count()\n",
        "\n",
        "print(f\"Total countries: {Country_Total}\")\n",
        "print(f\"Total WHO regions: {WHO_Total}\")\n",
        "print(\"List of WHO regions:\")\n",
        "renamed_user_df.select(\"WHO_Region\").distinct().show(truncate=False)"
      ],
      "metadata": {
        "colab": {
          "base_uri": "https://localhost:8080/"
        },
        "id": "ysgyPWMf3X8V",
        "outputId": "c0e64ed2-e86c-4a9e-a081-d8ae5163a14e"
      },
      "execution_count": 58,
      "outputs": [
        {
          "output_type": "stream",
          "name": "stdout",
          "text": [
            "Total countries: 187\n",
            "Total WHO regions: 6\n",
            "List of WHO regions:\n",
            "+---------------------+\n",
            "|WHO_Region           |\n",
            "+---------------------+\n",
            "|Europe               |\n",
            "|Western Pacific      |\n",
            "|Africa               |\n",
            "|Eastern Mediterranean|\n",
            "|Americas             |\n",
            "|South-East Asia      |\n",
            "+---------------------+\n",
            "\n"
          ]
        }
      ]
    }
  ]
}