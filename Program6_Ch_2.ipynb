{
  "nbformat": 4,
  "nbformat_minor": 0,
  "metadata": {
    "colab": {
      "provenance": [],
      "authorship_tag": "ABX9TyP8Mz4uS/42hoFDLfyEAR9q",
      "include_colab_link": true
    },
    "kernelspec": {
      "name": "python3",
      "display_name": "Python 3"
    },
    "language_info": {
      "name": "python"
    }
  },
  "cells": [
    {
      "cell_type": "markdown",
      "metadata": {
        "id": "view-in-github",
        "colab_type": "text"
      },
      "source": [
        "<a href=\"https://colab.research.google.com/github/scar110497/Shubham/blob/main/Program6_Ch_2.ipynb\" target=\"_parent\"><img src=\"https://colab.research.google.com/assets/colab-badge.svg\" alt=\"Open In Colab\"/></a>"
      ]
    },
    {
      "cell_type": "code",
      "execution_count": null,
      "metadata": {
        "colab": {
          "base_uri": "https://localhost:8080/"
        },
        "id": "DcxJ8ANu-NQX",
        "outputId": "6ddc4de3-27f7-44a4-9ebf-f19ba9a7b073"
      },
      "outputs": [
        {
          "output_type": "stream",
          "name": "stdout",
          "text": [
            "Enter num1: 3\n",
            "Enter num2: 4\n",
            "Addition: 7\n",
            "Subtraction: 1\n",
            "Multiplication: 12\n",
            "Division: 1.3333333333333333\n"
          ]
        }
      ],
      "source": [
        "class Calculator:\n",
        "\n",
        "    def __init__(self, num1, num2):\n",
        "        self.num1 = num1\n",
        "        self.num2 = num2\n",
        "\n",
        "    def add(self):\n",
        "        return sum([self.num1, self.num2])\n",
        "\n",
        "    def subtract(self):\n",
        "        return self.num2 - self.num1\n",
        "\n",
        "    def multiply(self):\n",
        "        return self.num1 * self.num2\n",
        "\n",
        "    def divide(self):\n",
        "        if self.num1 != 0:\n",
        "            return self.num2 / self.num1\n",
        "        else:\n",
        "            return \"Cannot divide by zero\"\n",
        "\n",
        "num1_val = int(input(\"Enter num1: \"))\n",
        "num2_val = int(input(\"Enter num2: \"))\n",
        "\n",
        "obj = Calculator(num1_val, num2_val)\n",
        "\n",
        "print(\"Addition:\", obj.add())\n",
        "print(\"Subtraction:\", obj.subtract())\n",
        "print(\"Multiplication:\", obj.multiply())\n",
        "print(\"Division:\", obj.divide())"
      ]
    }
  ]
}