{
  "nbformat": 4,
  "nbformat_minor": 0,
  "metadata": {
    "colab": {
      "provenance": [],
      "authorship_tag": "ABX9TyOHdroNFXmnWiHEjhM50rwa",
      "include_colab_link": true
    },
    "kernelspec": {
      "name": "python3",
      "display_name": "Python 3"
    },
    "language_info": {
      "name": "python"
    }
  },
  "cells": [
    {
      "cell_type": "markdown",
      "metadata": {
        "id": "view-in-github",
        "colab_type": "text"
      },
      "source": [
        "<a href=\"https://colab.research.google.com/github/scar110497/Shubham/blob/main/Program5_UC_LC.ipynb\" target=\"_parent\"><img src=\"https://colab.research.google.com/assets/colab-badge.svg\" alt=\"Open In Colab\"/></a>"
      ]
    },
    {
      "cell_type": "code",
      "execution_count": 1,
      "metadata": {
        "id": "_nQLmAXa85M-",
        "colab": {
          "base_uri": "https://localhost:8080/"
        },
        "outputId": "b88c6060-8820-4416-acdc-549f1550567d"
      },
      "outputs": [
        {
          "output_type": "stream",
          "name": "stdout",
          "text": [
            "Enter any String: Shubham Kumar\n",
            "Lower count: 10\n",
            "Upper count: 2\n"
          ]
        }
      ],
      "source": [
        "str = input(\"Enter any String: \")\n",
        "def calc_Upper_lower(str):\n",
        "  L_count = 0\n",
        "  U_count = 0\n",
        "\n",
        "  for e in str:\n",
        "    if 'z' >= e >= 'a':\n",
        "      L_count += 1\n",
        "    elif 'Z' >= e >= 'A':\n",
        "      U_count += 1\n",
        "  return L_count, U_count\n",
        "\n",
        "L_count,U_count = calc_Upper_lower(str)\n",
        "print (f\"Lower count: {L_count}\")\n",
        "print (f\"Upper count: {U_count}\")"
      ]
    }
  ]
}