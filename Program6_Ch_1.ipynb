{
  "nbformat": 4,
  "nbformat_minor": 0,
  "metadata": {
    "colab": {
      "provenance": [],
      "authorship_tag": "ABX9TyOatWJ1/DgezXcsjRbs5k4c",
      "include_colab_link": true
    },
    "kernelspec": {
      "name": "python3",
      "display_name": "Python 3"
    },
    "language_info": {
      "name": "python"
    }
  },
  "cells": [
    {
      "cell_type": "markdown",
      "metadata": {
        "id": "view-in-github",
        "colab_type": "text"
      },
      "source": [
        "<a href=\"https://colab.research.google.com/github/scar110497/Shubham/blob/main/Program6_Ch_1.ipynb\" target=\"_parent\"><img src=\"https://colab.research.google.com/assets/colab-badge.svg\" alt=\"Open In Colab\"/></a>"
      ]
    },
    {
      "cell_type": "code",
      "execution_count": null,
      "metadata": {
        "colab": {
          "base_uri": "https://localhost:8080/"
        },
        "id": "FSgLGX5h9FBQ",
        "outputId": "3b050b7f-b584-4159-ea4c-7c7f32f5af95"
      },
      "outputs": [
        {
          "output_type": "stream",
          "name": "stdout",
          "text": [
            "Enter x: 2\n",
            "Enter y: 3\n",
            "Enter z: 4\n",
            "Result: 29\n"
          ]
        }
      ],
      "source": [
        "class Point:\n",
        "    def __init__(self, x, y, z):\n",
        "        self.x = x\n",
        "        self.y = y\n",
        "        self.z = z\n",
        "\n",
        "    def sqSum(self):\n",
        "        return self.x**2 + self.y**2 + self.z**2\n",
        "\n",
        "_x = int(input(\"Enter x: \"))\n",
        "_y = int(input(\"Enter y: \"))\n",
        "_z = int(input(\"Enter z: \"))\n",
        "\n",
        "obj = Point(_x, _y, _z)\n",
        "result = obj.sqSum()\n",
        "print(\"Result:\", int(result))"
      ]
    }
  ]
}