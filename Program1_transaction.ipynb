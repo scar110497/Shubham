{
  "nbformat": 4,
  "nbformat_minor": 0,
  "metadata": {
    "colab": {
      "provenance": [],
      "authorship_tag": "ABX9TyO6Qkp7yT7HVLAgTEf5YtQQ",
      "include_colab_link": true
    },
    "kernelspec": {
      "name": "python3",
      "display_name": "Python 3"
    },
    "language_info": {
      "name": "python"
    }
  },
  "cells": [
    {
      "cell_type": "markdown",
      "metadata": {
        "id": "view-in-github",
        "colab_type": "text"
      },
      "source": [
        "<a href=\"https://colab.research.google.com/github/scar110497/Shubham/blob/main/Program1_transaction.ipynb\" target=\"_parent\"><img src=\"https://colab.research.google.com/assets/colab-badge.svg\" alt=\"Open In Colab\"/></a>"
      ]
    },
    {
      "cell_type": "code",
      "execution_count": 3,
      "metadata": {
        "colab": {
          "base_uri": "https://localhost:8080/"
        },
        "id": "nKoSgt3k5FI2",
        "outputId": "11fdaaae-9925-490b-bb90-b6d8efe6ea85"
      },
      "outputs": [
        {
          "output_type": "stream",
          "name": "stdout",
          "text": [
            "Enter the transaction log (e.g., D:100 W:10): D:100 W:40\n",
            "Net amount: 60\n"
          ]
        }
      ],
      "source": [
        "def nett_amount(transaction_log):\n",
        "    net_amount = 0\n",
        "    curr_amt = \"\"\n",
        "    is_deposit = None\n",
        "\n",
        "    for char in transaction_log:\n",
        "        if '0' <= char <= '9':\n",
        "            curr_amt += char\n",
        "        if char == 'D':\n",
        "            is_deposit = True\n",
        "        elif char == 'W':\n",
        "            is_deposit = False\n",
        "\n",
        "        if char == ' ':\n",
        "            if curr_amt:\n",
        "                if is_deposit is not None:\n",
        "                    if is_deposit:\n",
        "                        net_amount += int(curr_amt)\n",
        "                    else:\n",
        "                        net_amount -= int(curr_amt)\n",
        "                curr_amt = \"\"\n",
        "\n",
        "    if curr_amt:\n",
        "        if is_deposit is not None:\n",
        "            if is_deposit:\n",
        "                net_amount += int(curr_amt)\n",
        "            else:\n",
        "                net_amount -= int(curr_amt)\n",
        "\n",
        "    return net_amount\n",
        "\n",
        "log_message = input(\"Enter the transaction log (e.g., D:100 W:10): \")\n",
        "\n",
        "result = nett_amount(log_message)\n",
        "print(\"Net amount:\", result)"
      ]
    }
  ]
}