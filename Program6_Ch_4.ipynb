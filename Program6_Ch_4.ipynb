{
  "nbformat": 4,
  "nbformat_minor": 0,
  "metadata": {
    "colab": {
      "provenance": [],
      "authorship_tag": "ABX9TyNn0waieg2qaxjEOlHAxX/s",
      "include_colab_link": true
    },
    "kernelspec": {
      "name": "python3",
      "display_name": "Python 3"
    },
    "language_info": {
      "name": "python"
    }
  },
  "cells": [
    {
      "cell_type": "markdown",
      "metadata": {
        "id": "view-in-github",
        "colab_type": "text"
      },
      "source": [
        "<a href=\"https://colab.research.google.com/github/scar110497/Shubham/blob/main/Program6_Ch_4.ipynb\" target=\"_parent\"><img src=\"https://colab.research.google.com/assets/colab-badge.svg\" alt=\"Open In Colab\"/></a>"
      ]
    },
    {
      "cell_type": "code",
      "execution_count": 1,
      "metadata": {
        "colab": {
          "base_uri": "https://localhost:8080/"
        },
        "id": "UtwR-rLQ_lzv",
        "outputId": "92b21d5c-62c2-48ff-84be-a0d3de21695c"
      },
      "outputs": [
        {
          "output_type": "stream",
          "name": "stdout",
          "text": [
            "Acc. Title: Ashish\n",
            "Acc. Bal.: 5000\n",
            "Savings Acc. Title: Ashish\n",
            "Savings Acc. Bal.: 5000\n",
            "Savings Acc. Interest Rate%: 5\n"
          ]
        }
      ],
      "source": [
        "class Account:\n",
        "    def __init__(self, title=None, balance=0):\n",
        "        self.title = title\n",
        "        self.balance = balance\n",
        "\n",
        "class SavingsAccount(Account):\n",
        "    def __init__(self, title=None, balance=0, interestRate=0):\n",
        "        self.title = title\n",
        "        self.balance = balance\n",
        "        self.interestRate = interestRate\n",
        "\n",
        "obj = Account(\"Ashish\", 5000)\n",
        "obj1 = SavingsAccount(\"Ashish\", 5000, 5)\n",
        "print(\"Acc. Title:\", obj.title)\n",
        "print(\"Acc. Bal.:\", obj.balance)\n",
        "print(\"Savings Acc. Title:\", obj1.title)\n",
        "print(\"Savings Acc. Bal.:\", obj1.balance)\n",
        "print(\"Savings Acc. Interest Rate%:\", obj1.interestRate)"
      ]
    },
    {
      "cell_type": "code",
      "source": [],
      "metadata": {
        "id": "EgtyzaOk4MZl"
      },
      "execution_count": null,
      "outputs": []
    }
  ]
}