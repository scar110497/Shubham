{
  "nbformat": 4,
  "nbformat_minor": 0,
  "metadata": {
    "colab": {
      "provenance": [],
      "authorship_tag": "ABX9TyMwvvHetv4W+6B1ia+WHpKk",
      "include_colab_link": true
    },
    "kernelspec": {
      "name": "python3",
      "display_name": "Python 3"
    },
    "language_info": {
      "name": "python"
    }
  },
  "cells": [
    {
      "cell_type": "markdown",
      "metadata": {
        "id": "view-in-github",
        "colab_type": "text"
      },
      "source": [
        "<a href=\"https://colab.research.google.com/github/scar110497/Shubham/blob/main/Program6_Ch_5.ipynb\" target=\"_parent\"><img src=\"https://colab.research.google.com/assets/colab-badge.svg\" alt=\"Open In Colab\"/></a>"
      ]
    },
    {
      "cell_type": "code",
      "execution_count": 1,
      "metadata": {
        "colab": {
          "base_uri": "https://localhost:8080/"
        },
        "id": "QAt3IE2MAjiA",
        "outputId": "691052af-dabb-40c6-b8bf-7ae8b8e4f8eb"
      },
      "outputs": [
        {
          "output_type": "stream",
          "name": "stdout",
          "text": [
            "2500\n",
            "2000\n",
            "100.0\n"
          ]
        }
      ],
      "source": [
        "class Account:\n",
        "    def __init__(self, title=None, balance=0):\n",
        "        self.title = title\n",
        "        self.balance = balance\n",
        "\n",
        "    def withdrawal(self, amount):\n",
        "        self.balance -= amount\n",
        "\n",
        "    def deposit(self, amount):\n",
        "        self.balance += amount\n",
        "\n",
        "    def getBalance(self):\n",
        "        return self.balance\n",
        "\n",
        "class SavingsAccount(Account):\n",
        "    def __init__(self, title=None, balance=0, interestRate=0):\n",
        "        self.title = title\n",
        "        self.balance = balance\n",
        "        self.interestRate = interestRate\n",
        "\n",
        "    def interestAmount(self):\n",
        "        return (self.balance * self.interestRate) / 100\n",
        "\n",
        "obj = SavingsAccount(\"Ashish\", 2000, 5)\n",
        "\n",
        "obj.deposit(500)\n",
        "print(obj.getBalance())\n",
        "obj.withdrawal(500)\n",
        "print(obj.getBalance())\n",
        "print(obj.interestAmount())\n",
        ""
      ]
    }
  ]
}