{
  "nbformat": 4,
  "nbformat_minor": 0,
  "metadata": {
    "colab": {
      "provenance": [],
      "authorship_tag": "ABX9TyOBSRXOPltyGNclbjYEBh8d",
      "include_colab_link": true
    },
    "kernelspec": {
      "name": "python3",
      "display_name": "Python 3"
    },
    "language_info": {
      "name": "python"
    }
  },
  "cells": [
    {
      "cell_type": "markdown",
      "metadata": {
        "id": "view-in-github",
        "colab_type": "text"
      },
      "source": [
        "<a href=\"https://colab.research.google.com/github/scar110497/Shubham/blob/main/Program3_sumofList.ipynb\" target=\"_parent\"><img src=\"https://colab.research.google.com/assets/colab-badge.svg\" alt=\"Open In Colab\"/></a>"
      ]
    },
    {
      "cell_type": "code",
      "execution_count": null,
      "metadata": {
        "colab": {
          "base_uri": "https://localhost:8080/"
        },
        "id": "cM8rFBRF7WG2",
        "outputId": "41365676-e461-4f6e-9265-18b14fd15d44"
      },
      "outputs": [
        {
          "output_type": "stream",
          "name": "stdout",
          "text": [
            "Enter a list of no: 2 3 4 5 6 7\n",
            "Sum of no: 27\n"
          ]
        }
      ],
      "source": [
        "user_input = input(\"Enter a list of no: \")\n",
        "L = []\n",
        "start = 0\n",
        "\n",
        "for i in range(len(user_input)):\n",
        "    e = user_input[i]\n",
        "    if e == ' ':\n",
        "        if start < i:\n",
        "            L.append(int(user_input[start:i]))\n",
        "        start = i + 1\n",
        "if start < len(user_input):\n",
        "    L.append(int(user_input[start:]))\n",
        "def sumoflist(numbers):\n",
        "    return sum(numbers)\n",
        "result = sumoflist(L)\n",
        "print(\"Sum of no:\", result)"
      ]
    }
  ]
}