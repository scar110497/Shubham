{
  "nbformat": 4,
  "nbformat_minor": 0,
  "metadata": {
    "colab": {
      "provenance": [],
      "authorship_tag": "ABX9TyNJ5OaaCCNtl4lq8p+0S9cm",
      "include_colab_link": true
    },
    "kernelspec": {
      "name": "python3",
      "display_name": "Python 3"
    },
    "language_info": {
      "name": "python"
    }
  },
  "cells": [
    {
      "cell_type": "markdown",
      "metadata": {
        "id": "view-in-github",
        "colab_type": "text"
      },
      "source": [
        "<a href=\"https://colab.research.google.com/github/scar110497/Shubham/blob/main/Program2_calls.ipynb\" target=\"_parent\"><img src=\"https://colab.research.google.com/assets/colab-badge.svg\" alt=\"Open In Colab\"/></a>"
      ]
    },
    {
      "cell_type": "code",
      "execution_count": null,
      "metadata": {
        "id": "-QJPm4Ge7A1K"
      },
      "outputs": [],
      "source": [
        "calls = int(input (\"Enter no. of calls: \"))\n",
        "# bill = 200\n",
        "\n",
        "if calls <= 100:\n",
        "  bill = 200\n",
        "elif 101 <= calls <=150:\n",
        "  bill = 200 + 0.60 * (calls-100)\n",
        "elif 151 <= calls <= 200:\n",
        "  bill = 200 + 0.60 * 50 + 0.50 *(calls -150)\n",
        "else:\n",
        "  bill = 200 + 0.60 * 50 + 0.50 * 50 + 0.40*(calls -200)\n",
        "\n",
        "print (f\"Monthly telephone bill: {bill}\")"
      ]
    }
  ]
}