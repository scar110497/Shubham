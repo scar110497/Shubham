{
  "cells": [
    {
      "cell_type": "markdown",
      "metadata": {
        "id": "view-in-github",
        "colab_type": "text"
      },
      "source": [
        "<a href=\"https://colab.research.google.com/github/scar110497/Shubham/blob/main/Capstone_Project.ipynb\" target=\"_parent\"><img src=\"https://colab.research.google.com/assets/colab-badge.svg\" alt=\"Open In Colab\"/></a>"
      ]
    },
    {
      "cell_type": "code",
      "execution_count": null,
      "metadata": {
        "id": "_OWb6mTny8nw"
      },
      "outputs": [],
      "source": [
        "#install Apache Spark 3.0.1 with Hadoop 2.7 from here.\n",
        "!wget https://archive.apache.org/dist/spark/spark-3.0.0/spark-3.0.0-bin-hadoop2.7.tgz\n",
        "\n",
        "# Now, we just need to unzip that folder.\n",
        "!tar -xvzf spark-3.0.0-bin-hadoop2.7.tgz\n",
        "!pip install findspark\n",
        "\n",
        "\n",
        "import os\n",
        "os.environ[\"SPARK_HOME\"] = \"/content/spark-3.0.0-bin-hadoop2.7\"\n",
        "import findspark\n",
        "findspark.init()\n",
        "\n",
        "from pyspark.sql import SparkSession\n",
        "spark = SparkSession.builder.master(\"local\").appName(\"SparkDemoApp\").getOrCreate()\n",
        "sc = spark.sparkContext\n",
        "print(type(spark))"
      ]
    },
    {
      "cell_type": "code",
      "execution_count": 106,
      "metadata": {
        "colab": {
          "base_uri": "https://localhost:8080/"
        },
        "id": "g98rPnS70o3Q",
        "outputId": "873bb2fc-e6e7-4bed-fa15-f9f650286ebd"
      },
      "outputs": [
        {
          "output_type": "stream",
          "name": "stdout",
          "text": [
            "   customer_id first_name last_name date_of_birth\n",
            "0            1       John       Doe    1980-05-15\n",
            "1            2       Jane     Smith    1992-08-21\n",
            "2            3      Alice   Johnson    1975-02-10\n",
            "3            4      Sarah     Jones    1988-12-03\n",
            "4            5      David     Brown    1995-04-18\n",
            "5            6       Emma    Miller    1982-07-25\n"
          ]
        }
      ],
      "source": [
        "#CUSTOMER TABLE\n",
        "import sqlite3\n",
        "import pandas as pd\n",
        "\n",
        "db = sqlite3.connect('customers.db')\n",
        "\n",
        "query_create_table = 'CREATE TABLE customers(customer_id INTEGER, first_name VARCHAR, last_name VARCHAR, date_of_birth DATE)'\n",
        "db.execute(query_create_table)\n",
        "\n",
        "query_insert_data = '''\n",
        "INSERT INTO customers (customer_id, first_name, last_name, date_of_birth) VALUES\n",
        "(1, 'John', 'Doe', '1980-05-15'),\n",
        "(2, 'Jane', 'Smith', '1992-08-21'),\n",
        "(3, 'Alice', 'Johnson', '1975-02-10'),\n",
        "(4, 'Sarah', 'Jones', '1988-12-03'),\n",
        "(5, 'David', 'Brown', '1995-04-18'),\n",
        "(6, 'Emma', 'Miller', '1982-07-25');\n",
        "'''\n",
        "\n",
        "db.execute(query_insert_data)\n",
        "\n",
        "query_select_all = 'SELECT * FROM customers'\n",
        "df_customers = pd.read_sql_query(query_select_all, db)\n",
        "print(df_customers)\n",
        "\n",
        "db.commit()"
      ]
    },
    {
      "cell_type": "code",
      "execution_count": 239,
      "metadata": {
        "colab": {
          "base_uri": "https://localhost:8080/"
        },
        "id": "pywzl9K60xC_",
        "outputId": "9812f094-b463-4864-ccf3-27130456c734"
      },
      "outputs": [
        {
          "output_type": "stream",
          "name": "stdout",
          "text": [
            "   employee_id branch_id first_name last_name position\n",
            "0            1         2       Mike   Johnson  Manager\n",
            "1            2         3      Emily  Williams   Teller\n",
            "2            3         2     Robert     Davis   Teller\n",
            "3            4         3     Olivia    Wilson   Teller\n",
            "4            5         2     Daniel   Johnson  Analyst\n",
            "5            6         3     Sophia     Clark  Manager\n",
            "6            7         2       Mike   Johnson  Manager\n",
            "7            8         3      Emily  Williams   Teller\n",
            "8            9         2     Robert     Davis   Teller\n",
            "9           10         3     Olivia    Wilson   Teller\n",
            "10          11         2     Daniel   Johnson  Analyst\n",
            "11          12         3     Sophia     Clark  Manager\n"
          ]
        }
      ],
      "source": [
        "#Employee Table\n",
        "import xml.etree.ElementTree as ET\n",
        "import pandas as pd\n",
        "\n",
        "tree = ET.parse('//content/employees.xml')\n",
        "root = tree.getroot()\n",
        "\n",
        "data = []\n",
        "for child in root:\n",
        "    record = {}\n",
        "    for subchild in child:\n",
        "        record[subchild.tag] = subchild.text\n",
        "    data.append(record)\n",
        "\n",
        "df_emp = pd.DataFrame(data)\n",
        "print(df_emp)"
      ]
    },
    {
      "cell_type": "code",
      "execution_count": null,
      "metadata": {
        "colab": {
          "base_uri": "https://localhost:8080/"
        },
        "id": "J3qvim3E1IxU",
        "outputId": "8320f3c8-2cec-4ff3-e968-1443baad4119"
      },
      "outputs": [
        {
          "name": "stdout",
          "output_type": "stream",
          "text": [
            "+---------+---------------+-------------+\n",
            "|branch_id|branch_name    |location     |\n",
            "+---------+---------------+-------------+\n",
            "|1        |Main Branch    |Downtown City|\n",
            "|2        |Suburban Branch|Suburbville  |\n",
            "|3        |Regional Branch|Regional City|\n",
            "+---------+---------------+-------------+\n",
            "\n"
          ]
        }
      ],
      "source": [
        "#Branches file\n",
        "\n",
        "import json\n",
        "from pyspark.sql import SparkSession\n",
        "from pyspark.sql.types import *\n",
        "\n",
        "spark = SparkSession.builder.appName(\"CapstoneProject\").master(\"local\").getOrCreate()\n",
        "\n",
        "json_file_path = \"/content/branches.json\"\n",
        "\n",
        "with open(json_file_path, 'r') as file:\n",
        "    json_data = json.load(file)\n",
        "\n",
        "schema = StructType([\n",
        "    StructField(\"branch_id\", IntegerType(), True),\n",
        "    StructField(\"branch_name\", StringType(), True),\n",
        "    StructField(\"location\", StringType(), True),\n",
        "])\n",
        "\n",
        "rows = [(branch[\"branch_id\"], branch[\"branch_name\"], branch[\"location\"]) for branch in json_data[\"branches\"]]\n",
        "branches = spark.createDataFrame(rows, schema=schema)\n",
        "\n",
        "branches.show(truncate=False)"
      ]
    },
    {
      "cell_type": "code",
      "execution_count": 83,
      "metadata": {
        "colab": {
          "base_uri": "https://localhost:8080/"
        },
        "id": "4YeG1-im1jKa",
        "outputId": "9f855424-e319-4d4a-a502-108dfb603e66"
      },
      "outputs": [
        {
          "output_type": "stream",
          "name": "stdout",
          "text": [
            "+----------+-----------+-----------+------------+-------+\n",
            "|account_id|customer_id|employee_id|account_type|balance|\n",
            "+----------+-----------+-----------+------------+-------+\n",
            "|1         |1          |2          |Savings     |5000   |\n",
            "|2         |1          |3          |Checking    |1000   |\n",
            "|3         |2          |4          |Savings     |8000   |\n",
            "|4         |3          |1          |Checking    |3000   |\n",
            "|5         |2          |2          |Checking    |2500   |\n",
            "|6         |3          |3          |Savings     |6000   |\n",
            "|7         |4          |4          |Checking    |12000  |\n",
            "|8         |5          |2          |Savings     |3000   |\n",
            "+----------+-----------+-----------+------------+-------+\n",
            "\n"
          ]
        }
      ],
      "source": [
        "#Accounts file\n",
        "\n",
        "import json\n",
        "from pyspark.sql import SparkSession\n",
        "from pyspark.sql.types import *\n",
        "\n",
        "spark = SparkSession.builder.appName(\"CapstoneProject\").master(\"local\").getOrCreate()\n",
        "\n",
        "json_file_path = \"/content/accounts.json\"\n",
        "\n",
        "with open(json_file_path, 'r') as file:\n",
        "    json_data = json.load(file)\n",
        "\n",
        "schema = StructType([\n",
        "    StructField(\"account_id\", IntegerType(), True),\n",
        "    StructField(\"customer_id\", IntegerType(), True),\n",
        "    StructField(\"employee_id\", IntegerType(), True),\n",
        "    StructField(\"account_type\", StringType(), True),\n",
        "    StructField(\"balance\", IntegerType(), True)\n",
        "])\n",
        "\n",
        "rows = [(accounts[\"account_id\"], accounts[\"customer_id\"], accounts[\"employee_id\"], accounts[\"account_type\"], accounts[\"balance\"]) for accounts in json_data[\"accounts\"]]\n",
        "accounts = spark.createDataFrame(rows, schema=schema)\n",
        "\n",
        "accounts.show(truncate=False)"
      ]
    },
    {
      "cell_type": "code",
      "source": [
        " #/content/loans.csv with the schema definition\n",
        "\n",
        "loans_df=spark.read.csv(path='/content/loans.csv', header=True)\n",
        "loans_df.show()\n",
        "\n",
        " #/content/payment_history.csv with the schema definition\n",
        "from pyspark.sql import SparkSession\n",
        "from pyspark.sql.types import *\n",
        "from pyspark.sql.functions import monotonically_increasing_id\n",
        "spark = SparkSession.builder.appName(\"CapstoneProject\").master(\"local\").getOrCreate()\n",
        "\n",
        "pf_df = spark.read.csv(path = \"/content/payment_history.csv\", header=True)\n",
        "pf_df = pf_df.withColumn(\"payment_id\", monotonically_increasing_id())\n",
        "pf_df.show(truncate=False)\n",
        "\n",
        "\n",
        "\n",
        " #/content/transactions.csv with the schema definition\n",
        "\n",
        "transactions_df=spark.read.csv(path='/content/transactions.csv', header=True)\n",
        "transactions_df.show()"
      ],
      "metadata": {
        "colab": {
          "base_uri": "https://localhost:8080/"
        },
        "id": "JH6Rr5BLKJdn",
        "outputId": "9b884401-5d64-4a3a-ee7f-402e4e3f9a64"
      },
      "execution_count": 171,
      "outputs": [
        {
          "output_type": "stream",
          "name": "stdout",
          "text": [
            "+-------+-----------+-----------+-------------+----------+----------+------+\n",
            "|loan_id|customer_id|loan_amount|interest_rate|start_date|  end_date|status|\n",
            "+-------+-----------+-----------+-------------+----------+----------+------+\n",
            "|      1|          1|      10000|         0.05|2023-01-01|2023-12-31|Active|\n",
            "|      2|          1|      15000|         0.04|2023-02-15|2023-12-31|Active|\n",
            "|      3|          2|       8000|         0.03|2023-03-20|2023-11-30|Active|\n",
            "|      4|          3|      20000|         0.05|2023-01-10|2023-10-31|Active|\n",
            "+-------+-----------+-----------+-------------+----------+----------+------+\n",
            "\n",
            "+----------+-------+------------+-----------+\n",
            "|payment_id|loan_id|payment_date|amount_paid|\n",
            "+----------+-------+------------+-----------+\n",
            "|0         |1      |2023-03-01  |2000       |\n",
            "|1         |1      |2023-04-01  |1500       |\n",
            "|2         |2      |2023-04-10  |1000       |\n",
            "|3         |3      |2023-02-20  |3000       |\n",
            "|4         |3      |2023-03-15  |2500       |\n",
            "+----------+-------+------------+-----------+\n",
            "\n",
            "+--------------+----------+----------------+------+-------------------+\n",
            "|transaction_id|account_id|transaction_type|amount|   transaction_date|\n",
            "+--------------+----------+----------------+------+-------------------+\n",
            "|             1|         1|         Deposit|  1000|2023-01-15 08:30:00|\n",
            "|             2|         1|      Withdrawal|   500|2023-02-02 12:45:00|\n",
            "|             3|         2|         Deposit|  2000|2023-03-10 15:20:00|\n",
            "|             4|         3|      Withdrawal|  1000|2023-04-05 10:10:00|\n",
            "|             5|         4|         Deposit|  1500|2023-05-20 09:00:00|\n",
            "|             6|         5|         Deposit|  2000|2023-06-12 11:30:00|\n",
            "|             7|         3|      Withdrawal|   800|2023-07-08 14:15:00|\n",
            "|             8|         2|         Deposit|  3000|2023-08-22 16:45:00|\n",
            "|             9|         4|      Withdrawal|  1500|2023-09-14 09:30:00|\n",
            "|            10|         1|         Deposit|  1200|2023-10-01 10:00:00|\n",
            "+--------------+----------+----------------+------+-------------------+\n",
            "\n"
          ]
        }
      ]
    },
    {
      "cell_type": "code",
      "source": [
        "#Basic Problem 1:- Write a spark dataframe to show the balance amount for an account_id = 1\n",
        "\n",
        "accounts.filter(accounts['account_id'] == 1).select('balance').show()"
      ],
      "metadata": {
        "colab": {
          "base_uri": "https://localhost:8080/"
        },
        "id": "xjOHjGJPMv_i",
        "outputId": "b1d278dc-dd1b-4418-e35f-3d4ab9e09350"
      },
      "execution_count": 85,
      "outputs": [
        {
          "output_type": "stream",
          "name": "stdout",
          "text": [
            "+-------+\n",
            "|balance|\n",
            "+-------+\n",
            "|   5000|\n",
            "+-------+\n",
            "\n"
          ]
        }
      ]
    },
    {
      "cell_type": "code",
      "source": [
        "#Basic Problem 2:- List Transactions for an account_id = 1:\n",
        "\n",
        "transactions_df.filter(transactions_df['account_id'] == 1).show()"
      ],
      "metadata": {
        "colab": {
          "base_uri": "https://localhost:8080/"
        },
        "id": "gvD8PNORNChV",
        "outputId": "db249b21-f224-434b-fed5-ce026059b830"
      },
      "execution_count": 111,
      "outputs": [
        {
          "output_type": "stream",
          "name": "stdout",
          "text": [
            "+--------------+----------+----------------+------+-------------------+\n",
            "|transaction_id|account_id|transaction_type|amount|   transaction_date|\n",
            "+--------------+----------+----------------+------+-------------------+\n",
            "|             1|         1|         Deposit|  1000|2023-01-15 08:30:00|\n",
            "|             2|         1|      Withdrawal|   500|2023-02-02 12:45:00|\n",
            "|            10|         1|         Deposit|  1200|2023-10-01 10:00:00|\n",
            "+--------------+----------+----------------+------+-------------------+\n",
            "\n"
          ]
        }
      ]
    },
    {
      "cell_type": "code",
      "source": [
        "#Basic Problem 3:- List Accounts with a zero balance\n",
        "\n",
        "accounts.filter(accounts['balance'] == 0).select('account_id').show()\n",
        "accounts.filter(accounts['balance'] == 0).show()"
      ],
      "metadata": {
        "colab": {
          "base_uri": "https://localhost:8080/"
        },
        "id": "ojFlsyvSN4Iv",
        "outputId": "1c35636f-8faa-4cad-e72c-7263afaf12df"
      },
      "execution_count": 112,
      "outputs": [
        {
          "output_type": "stream",
          "name": "stdout",
          "text": [
            "+----------+\n",
            "|account_id|\n",
            "+----------+\n",
            "+----------+\n",
            "\n",
            "+----------+-----------+-----------+------------+-------+\n",
            "|account_id|customer_id|employee_id|account_type|balance|\n",
            "+----------+-----------+-----------+------------+-------+\n",
            "+----------+-----------+-----------+------------+-------+\n",
            "\n"
          ]
        }
      ]
    },
    {
      "cell_type": "code",
      "source": [
        "#Basic Problem 4:- Find the Oldest Customer\n",
        "\n",
        "df_customers.sort_values(by=['date_of_birth'], ascending=True).head(1)\n"
      ],
      "metadata": {
        "colab": {
          "base_uri": "https://localhost:8080/",
          "height": 81
        },
        "id": "0dx-7Zk2OJGd",
        "outputId": "45b626fc-e483-4c2e-83f4-76e9a1faae01"
      },
      "execution_count": 113,
      "outputs": [
        {
          "output_type": "execute_result",
          "data": {
            "text/plain": [
              "   customer_id first_name last_name date_of_birth\n",
              "2            3      Alice   Johnson    1975-02-10"
            ],
            "text/html": [
              "\n",
              "  <div id=\"df-bdd4ca8c-025d-4bfe-82f2-0a176612db0c\" class=\"colab-df-container\">\n",
              "    <div>\n",
              "<style scoped>\n",
              "    .dataframe tbody tr th:only-of-type {\n",
              "        vertical-align: middle;\n",
              "    }\n",
              "\n",
              "    .dataframe tbody tr th {\n",
              "        vertical-align: top;\n",
              "    }\n",
              "\n",
              "    .dataframe thead th {\n",
              "        text-align: right;\n",
              "    }\n",
              "</style>\n",
              "<table border=\"1\" class=\"dataframe\">\n",
              "  <thead>\n",
              "    <tr style=\"text-align: right;\">\n",
              "      <th></th>\n",
              "      <th>customer_id</th>\n",
              "      <th>first_name</th>\n",
              "      <th>last_name</th>\n",
              "      <th>date_of_birth</th>\n",
              "    </tr>\n",
              "  </thead>\n",
              "  <tbody>\n",
              "    <tr>\n",
              "      <th>2</th>\n",
              "      <td>3</td>\n",
              "      <td>Alice</td>\n",
              "      <td>Johnson</td>\n",
              "      <td>1975-02-10</td>\n",
              "    </tr>\n",
              "  </tbody>\n",
              "</table>\n",
              "</div>\n",
              "    <div class=\"colab-df-buttons\">\n",
              "\n",
              "  <div class=\"colab-df-container\">\n",
              "    <button class=\"colab-df-convert\" onclick=\"convertToInteractive('df-bdd4ca8c-025d-4bfe-82f2-0a176612db0c')\"\n",
              "            title=\"Convert this dataframe to an interactive table.\"\n",
              "            style=\"display:none;\">\n",
              "\n",
              "  <svg xmlns=\"http://www.w3.org/2000/svg\" height=\"24px\" viewBox=\"0 -960 960 960\">\n",
              "    <path d=\"M120-120v-720h720v720H120Zm60-500h600v-160H180v160Zm220 220h160v-160H400v160Zm0 220h160v-160H400v160ZM180-400h160v-160H180v160Zm440 0h160v-160H620v160ZM180-180h160v-160H180v160Zm440 0h160v-160H620v160Z\"/>\n",
              "  </svg>\n",
              "    </button>\n",
              "\n",
              "  <style>\n",
              "    .colab-df-container {\n",
              "      display:flex;\n",
              "      gap: 12px;\n",
              "    }\n",
              "\n",
              "    .colab-df-convert {\n",
              "      background-color: #E8F0FE;\n",
              "      border: none;\n",
              "      border-radius: 50%;\n",
              "      cursor: pointer;\n",
              "      display: none;\n",
              "      fill: #1967D2;\n",
              "      height: 32px;\n",
              "      padding: 0 0 0 0;\n",
              "      width: 32px;\n",
              "    }\n",
              "\n",
              "    .colab-df-convert:hover {\n",
              "      background-color: #E2EBFA;\n",
              "      box-shadow: 0px 1px 2px rgba(60, 64, 67, 0.3), 0px 1px 3px 1px rgba(60, 64, 67, 0.15);\n",
              "      fill: #174EA6;\n",
              "    }\n",
              "\n",
              "    .colab-df-buttons div {\n",
              "      margin-bottom: 4px;\n",
              "    }\n",
              "\n",
              "    [theme=dark] .colab-df-convert {\n",
              "      background-color: #3B4455;\n",
              "      fill: #D2E3FC;\n",
              "    }\n",
              "\n",
              "    [theme=dark] .colab-df-convert:hover {\n",
              "      background-color: #434B5C;\n",
              "      box-shadow: 0px 1px 3px 1px rgba(0, 0, 0, 0.15);\n",
              "      filter: drop-shadow(0px 1px 2px rgba(0, 0, 0, 0.3));\n",
              "      fill: #FFFFFF;\n",
              "    }\n",
              "  </style>\n",
              "\n",
              "    <script>\n",
              "      const buttonEl =\n",
              "        document.querySelector('#df-bdd4ca8c-025d-4bfe-82f2-0a176612db0c button.colab-df-convert');\n",
              "      buttonEl.style.display =\n",
              "        google.colab.kernel.accessAllowed ? 'block' : 'none';\n",
              "\n",
              "      async function convertToInteractive(key) {\n",
              "        const element = document.querySelector('#df-bdd4ca8c-025d-4bfe-82f2-0a176612db0c');\n",
              "        const dataTable =\n",
              "          await google.colab.kernel.invokeFunction('convertToInteractive',\n",
              "                                                    [key], {});\n",
              "        if (!dataTable) return;\n",
              "\n",
              "        const docLinkHtml = 'Like what you see? Visit the ' +\n",
              "          '<a target=\"_blank\" href=https://colab.research.google.com/notebooks/data_table.ipynb>data table notebook</a>'\n",
              "          + ' to learn more about interactive tables.';\n",
              "        element.innerHTML = '';\n",
              "        dataTable['output_type'] = 'display_data';\n",
              "        await google.colab.output.renderOutput(dataTable, element);\n",
              "        const docLink = document.createElement('div');\n",
              "        docLink.innerHTML = docLinkHtml;\n",
              "        element.appendChild(docLink);\n",
              "      }\n",
              "    </script>\n",
              "  </div>\n",
              "\n",
              "\n",
              "    </div>\n",
              "  </div>\n"
            ]
          },
          "metadata": {},
          "execution_count": 113
        }
      ]
    },
    {
      "cell_type": "code",
      "source": [
        "#Basic Problem 5:- Calculate the Total Interest Earned Across All Accounts:\n",
        "\n",
        "interest_earned = transactions_df.agg(F.sum('amount').alias('total_interest'))\n",
        "interest_earned.show()"
      ],
      "metadata": {
        "colab": {
          "base_uri": "https://localhost:8080/"
        },
        "id": "Mog85YP7Pq4Y",
        "outputId": "185aff0e-f111-4536-d4fa-43f239682bbb"
      },
      "execution_count": 224,
      "outputs": [
        {
          "output_type": "stream",
          "name": "stdout",
          "text": [
            "+--------------+\n",
            "|total_interest|\n",
            "+--------------+\n",
            "|       14500.0|\n",
            "+--------------+\n",
            "\n"
          ]
        }
      ]
    },
    {
      "cell_type": "markdown",
      "source": [
        "#Account Problems\n"
      ],
      "metadata": {
        "id": "Fnamse9hOst3"
      }
    },
    {
      "cell_type": "code",
      "source": [
        "#Problem 1:- List All Accounts with Customer Information:\n",
        "\n",
        "from pyspark.sql import *\n",
        "from pyspark.sql import SparkSession\n",
        "spark = SparkSession.builder.master(\"local\").appName(\"SparkDemoApp\").getOrCreate()\n",
        "\n",
        "df = spark.createDataFrame(df_customers)\n",
        "\n",
        "\n",
        "df_new = accounts.join(df, on = 'customer_id', how = 'inner')\n",
        "result = df_new.select('customer_id', 'first_name', 'last_name', 'account_id', 'account_type', 'balance')\n",
        "result.show()\n"
      ],
      "metadata": {
        "colab": {
          "base_uri": "https://localhost:8080/"
        },
        "id": "_9f_7Cf1TI1c",
        "outputId": "4c53e553-b9f7-44c9-b2e8-4d792be0b8e1"
      },
      "execution_count": 267,
      "outputs": [
        {
          "output_type": "stream",
          "name": "stderr",
          "text": [
            "/content/spark-3.0.0-bin-hadoop2.7/python/pyspark/sql/pandas/conversion.py:327: FutureWarning: iteritems is deprecated and will be removed in a future version. Use .items instead.\n",
            "  for column, series in pdf.iteritems():\n"
          ]
        },
        {
          "output_type": "stream",
          "name": "stdout",
          "text": [
            "+-----------+----------+---------+----------+------------+-------+\n",
            "|customer_id|first_name|last_name|account_id|account_type|balance|\n",
            "+-----------+----------+---------+----------+------------+-------+\n",
            "|          5|     David|    Brown|         8|     Savings|   3000|\n",
            "|          1|      John|      Doe|         1|     Savings|   5000|\n",
            "|          1|      John|      Doe|         2|    Checking|   1000|\n",
            "|          3|     Alice|  Johnson|         4|    Checking|   3000|\n",
            "|          3|     Alice|  Johnson|         6|     Savings|   6000|\n",
            "|          2|      Jane|    Smith|         3|     Savings|   8000|\n",
            "|          2|      Jane|    Smith|         5|    Checking|   2500|\n",
            "|          4|     Sarah|    Jones|         7|    Checking|  12000|\n",
            "+-----------+----------+---------+----------+------------+-------+\n",
            "\n"
          ]
        }
      ]
    },
    {
      "cell_type": "code",
      "source": [
        "#Problem 2:- Calculate Total Balance for Each Customer\n",
        "\n",
        "import pyspark.sql.functions as F\n",
        "test = accounts.groupBy(\"customer_id\").agg(F.sum('balance').alias('total_bal'))\n",
        "test1 = test.join(df, \"customer_id\", 'left')  #df_customer = df\n",
        "test_new= test1.orderBy(F.desc(\"total_bal\")).show(5)"
      ],
      "metadata": {
        "colab": {
          "base_uri": "https://localhost:8080/"
        },
        "id": "zXV3y03lPKmP",
        "outputId": "b70bdc92-292b-456d-f872-1d85c2acaf8e"
      },
      "execution_count": 231,
      "outputs": [
        {
          "output_type": "stream",
          "name": "stdout",
          "text": [
            "+-----------+---------+----------+---------+-------------+\n",
            "|customer_id|total_bal|first_name|last_name|date_of_birth|\n",
            "+-----------+---------+----------+---------+-------------+\n",
            "|          4|    12000|     Sarah|    Jones|   1988-12-03|\n",
            "|          2|    10500|      Jane|    Smith|   1992-08-21|\n",
            "|          3|     9000|     Alice|  Johnson|   1975-02-10|\n",
            "|          1|     6000|      John|      Doe|   1980-05-15|\n",
            "|          5|     3000|     David|    Brown|   1995-04-18|\n",
            "+-----------+---------+----------+---------+-------------+\n",
            "\n"
          ]
        }
      ]
    },
    {
      "cell_type": "code",
      "source": [
        "#Problem 3:- Find Customers with Multiple Accounts\n",
        "from pyspark.sql.types import *\n",
        "\n",
        "multi_df = accounts.groupBy('customer_id').agg(F.count('account_id').alias('total_accounts'))\n",
        "tb_df = multi_df.filter(F.col('total_accounts')>1)\n",
        "tb_df.show()\n"
      ],
      "metadata": {
        "colab": {
          "base_uri": "https://localhost:8080/"
        },
        "id": "oRPR47LtpCx7",
        "outputId": "3678488a-838a-4965-f0c9-6673109d09f0"
      },
      "execution_count": 234,
      "outputs": [
        {
          "output_type": "stream",
          "name": "stdout",
          "text": [
            "+-----------+--------------+\n",
            "|customer_id|total_accounts|\n",
            "+-----------+--------------+\n",
            "|          1|             2|\n",
            "|          3|             2|\n",
            "|          2|             2|\n",
            "+-----------+--------------+\n",
            "\n"
          ]
        }
      ]
    },
    {
      "cell_type": "markdown",
      "source": [
        "#Customer Transactions Reports\n"
      ],
      "metadata": {
        "id": "uRCn3294V2fS"
      }
    },
    {
      "cell_type": "code",
      "source": [
        "#Problem 1:- List Transactions with Account and Customer Information:\n",
        "\n",
        "join_df = transactions_df.join(accounts, \"account_id\").join(df, \"customer_id\")\n",
        "join_df1 = join_df.select('transaction_id', 'transaction_type', 'amount', 'transaction_date', 'customer_id', 'first_name', 'last_name', 'account_id', 'account_type' )\n",
        "join_df1.show()"
      ],
      "metadata": {
        "colab": {
          "base_uri": "https://localhost:8080/"
        },
        "id": "JxtO2KL2UiDg",
        "outputId": "679b9442-642c-43e0-92a3-cc36ab31a652"
      },
      "execution_count": 236,
      "outputs": [
        {
          "output_type": "stream",
          "name": "stdout",
          "text": [
            "+--------------+----------------+------+-------------------+-----------+----------+---------+----------+------------+\n",
            "|transaction_id|transaction_type|amount|   transaction_date|customer_id|first_name|last_name|account_id|account_type|\n",
            "+--------------+----------------+------+-------------------+-----------+----------+---------+----------+------------+\n",
            "|            10|         Deposit|  1200|2023-10-01 10:00:00|          1|      John|      Doe|         1|     Savings|\n",
            "|             2|      Withdrawal|   500|2023-02-02 12:45:00|          1|      John|      Doe|         1|     Savings|\n",
            "|             1|         Deposit|  1000|2023-01-15 08:30:00|          1|      John|      Doe|         1|     Savings|\n",
            "|             8|         Deposit|  3000|2023-08-22 16:45:00|          1|      John|      Doe|         2|    Checking|\n",
            "|             3|         Deposit|  2000|2023-03-10 15:20:00|          1|      John|      Doe|         2|    Checking|\n",
            "|             9|      Withdrawal|  1500|2023-09-14 09:30:00|          3|     Alice|  Johnson|         4|    Checking|\n",
            "|             5|         Deposit|  1500|2023-05-20 09:00:00|          3|     Alice|  Johnson|         4|    Checking|\n",
            "|             7|      Withdrawal|   800|2023-07-08 14:15:00|          2|      Jane|    Smith|         3|     Savings|\n",
            "|             4|      Withdrawal|  1000|2023-04-05 10:10:00|          2|      Jane|    Smith|         3|     Savings|\n",
            "|             6|         Deposit|  2000|2023-06-12 11:30:00|          2|      Jane|    Smith|         5|    Checking|\n",
            "+--------------+----------------+------+-------------------+-----------+----------+---------+----------+------------+\n",
            "\n"
          ]
        }
      ]
    },
    {
      "cell_type": "code",
      "source": [
        "#Problem 2:- Calculate Average Transaction Amount:\n",
        "\n",
        "\n",
        "spark = SparkSession.builder.appName(\"Average_Transaction_Amount\").getOrCreate()\n",
        "\n",
        "transactions_df.select(avg('amount')).show()"
      ],
      "metadata": {
        "colab": {
          "base_uri": "https://localhost:8080/"
        },
        "id": "ZrwXqZ5XZiMq",
        "outputId": "fc3a8a0e-bd76-4dde-a546-4e4bad5b97ac"
      },
      "execution_count": 143,
      "outputs": [
        {
          "output_type": "stream",
          "name": "stdout",
          "text": [
            "+-----------+\n",
            "|avg(amount)|\n",
            "+-----------+\n",
            "|     1450.0|\n",
            "+-----------+\n",
            "\n"
          ]
        }
      ]
    },
    {
      "cell_type": "code",
      "source": [
        "#Problem 3:- Identify High-Value Customers with Total Balance:\n",
        "\n",
        "import pyspark.sql.functions as F\n",
        "test = accounts.groupBy(\"customer_id\").agg(F.sum('balance').alias('total_bal'))\n",
        "test1 = test.join(df, \"customer_id\", 'inner')   #df_customer = df\n",
        "test_new= test1.orderBy(F.desc(\"total_bal\")).show(5)\n",
        "\n"
      ],
      "metadata": {
        "colab": {
          "base_uri": "https://localhost:8080/"
        },
        "id": "ElvaiovRV_aQ",
        "outputId": "dd378abc-86b1-4f4a-8c0f-dc1133d1bc15"
      },
      "execution_count": 238,
      "outputs": [
        {
          "output_type": "stream",
          "name": "stdout",
          "text": [
            "+-----------+---------+----------+---------+-------------+\n",
            "|customer_id|total_bal|first_name|last_name|date_of_birth|\n",
            "+-----------+---------+----------+---------+-------------+\n",
            "|          4|    12000|     Sarah|    Jones|   1988-12-03|\n",
            "|          2|    10500|      Jane|    Smith|   1992-08-21|\n",
            "|          3|     9000|     Alice|  Johnson|   1975-02-10|\n",
            "|          1|     6000|      John|      Doe|   1980-05-15|\n",
            "|          5|     3000|     David|    Brown|   1995-04-18|\n",
            "+-----------+---------+----------+---------+-------------+\n",
            "\n"
          ]
        }
      ]
    },
    {
      "cell_type": "code",
      "source": [
        "#Problem 4:- List Employees and Their Assigned Customers:\n",
        "from pyspark.sql import *\n",
        "from pyspark.sql import SparkSession\n",
        "spark = SparkSession.builder.master(\"local\").appName(\"SparkDemoApp\").getOrCreate()\n",
        "\n",
        "df_emp2 = spark.createDataFrame(df_emp)\n",
        "\n",
        "lec_df = df_new.join(df_emp2, on = 'employee_id', how = 'inner')\n",
        "\n",
        "lec_df.show()"
      ],
      "metadata": {
        "colab": {
          "base_uri": "https://localhost:8080/"
        },
        "id": "2pa3xuZlbST5",
        "outputId": "db2b81aa-a3ce-4bb1-a141-b6827ee7e542"
      },
      "execution_count": 260,
      "outputs": [
        {
          "output_type": "stream",
          "name": "stderr",
          "text": [
            "/content/spark-3.0.0-bin-hadoop2.7/python/pyspark/sql/pandas/conversion.py:327: FutureWarning: iteritems is deprecated and will be removed in a future version. Use .items instead.\n",
            "  for column, series in pdf.iteritems():\n"
          ]
        },
        {
          "output_type": "stream",
          "name": "stdout",
          "text": [
            "+-----------+-----------+----------+------------+-------+----------+---------+-------------+---------+----------+---------+--------+\n",
            "|employee_id|customer_id|account_id|account_type|balance|first_name|last_name|date_of_birth|branch_id|first_name|last_name|position|\n",
            "+-----------+-----------+----------+------------+-------+----------+---------+-------------+---------+----------+---------+--------+\n",
            "|          1|          3|         4|    Checking|   3000|     Alice|  Johnson|   1975-02-10|        2|      Mike|  Johnson| Manager|\n",
            "|          3|          1|         2|    Checking|   1000|      John|      Doe|   1980-05-15|        2|    Robert|    Davis|  Teller|\n",
            "|          3|          3|         6|     Savings|   6000|     Alice|  Johnson|   1975-02-10|        2|    Robert|    Davis|  Teller|\n",
            "|          4|          2|         3|     Savings|   8000|      Jane|    Smith|   1992-08-21|        3|    Olivia|   Wilson|  Teller|\n",
            "|          4|          4|         7|    Checking|  12000|     Sarah|    Jones|   1988-12-03|        3|    Olivia|   Wilson|  Teller|\n",
            "|          2|          5|         8|     Savings|   3000|     David|    Brown|   1995-04-18|        3|     Emily| Williams|  Teller|\n",
            "|          2|          1|         1|     Savings|   5000|      John|      Doe|   1980-05-15|        3|     Emily| Williams|  Teller|\n",
            "|          2|          2|         5|    Checking|   2500|      Jane|    Smith|   1992-08-21|        3|     Emily| Williams|  Teller|\n",
            "+-----------+-----------+----------+------------+-------+----------+---------+-------------+---------+----------+---------+--------+\n",
            "\n"
          ]
        }
      ]
    },
    {
      "cell_type": "code",
      "source": [
        "#Problem 5:- Calculate the Total Number of Transactions for Each Account Type\n",
        "\n",
        "joined_df = transactions_df.join(accounts, \"account_id\", \"inner\")\n",
        "\n",
        "total_transactions_by_type = joined_df.groupBy(\"account_type\").agg(F.count(\"transaction_id\").alias(\"total_transactions\"))\n",
        "\n",
        "total_transactions_by_type.show()"
      ],
      "metadata": {
        "colab": {
          "base_uri": "https://localhost:8080/"
        },
        "id": "1UONbYqL3ioK",
        "outputId": "b437d22a-cfcf-4822-e690-5c1c1d216274"
      },
      "execution_count": 262,
      "outputs": [
        {
          "output_type": "stream",
          "name": "stdout",
          "text": [
            "+------------+------------------+\n",
            "|account_type|total_transactions|\n",
            "+------------+------------------+\n",
            "|     Savings|                 5|\n",
            "|    Checking|                 5|\n",
            "+------------+------------------+\n",
            "\n"
          ]
        }
      ]
    },
    {
      "cell_type": "code",
      "source": [
        "#Problem 6 & 7:- Find Customers with No Accounts\n",
        "\n",
        "from pyspark.sql.functions import *\n",
        "customers_alias = df.alias(\"c\")\n",
        "accounts_alias = accounts.alias(\"a\")\n",
        "\n",
        "\n",
        "\n",
        "customers_with_no_accounts = customers_alias.join(accounts_alias, col(\"c.customer_id\") == col(\"a.customer_id\"), \"left_anti\")\n",
        "customers_with_no_accounts.show()\n",
        "\n",
        "#df.show()\n",
        "#accounts.show()"
      ],
      "metadata": {
        "colab": {
          "base_uri": "https://localhost:8080/"
        },
        "id": "HJVmz3Pm3zzm",
        "outputId": "d628030d-e3d6-41fb-dd93-68108f36b0b4"
      },
      "execution_count": 291,
      "outputs": [
        {
          "output_type": "stream",
          "name": "stdout",
          "text": [
            "+-----------+----------+---------+-------------+\n",
            "|customer_id|first_name|last_name|date_of_birth|\n",
            "+-----------+----------+---------+-------------+\n",
            "|          6|      Emma|   Miller|   1982-07-25|\n",
            "+-----------+----------+---------+-------------+\n",
            "\n"
          ]
        }
      ]
    },
    {
      "cell_type": "code",
      "source": [
        "#Problem 8:- List the Latest Transaction for Each Account:\n",
        "\n",
        "window_spec = Window.partitionBy(\"account_id\").orderBy(F.desc(\"transaction_date\"))\n",
        "\n",
        "df_transactions_with_row_number = transactions_df.withColumn(\"row_number\", F.row_number().over(window_spec))\n",
        "\n",
        "latest_transactions = df_transactions_with_row_number.filter(\"row_number = 1\")\n",
        "\n",
        "latest_transactions = latest_transactions.drop(\"row_number\")\n",
        "\n",
        "latest_transactions.show()"
      ],
      "metadata": {
        "colab": {
          "base_uri": "https://localhost:8080/"
        },
        "id": "8Oww9Ett6Vn3",
        "outputId": "e1e564da-18ab-48da-d1a5-085a79012121"
      },
      "execution_count": 286,
      "outputs": [
        {
          "output_type": "stream",
          "name": "stdout",
          "text": [
            "+--------------+----------+----------------+------+-------------------+\n",
            "|transaction_id|account_id|transaction_type|amount|   transaction_date|\n",
            "+--------------+----------+----------------+------+-------------------+\n",
            "|             7|         3|      Withdrawal|   800|2023-07-08 14:15:00|\n",
            "|             6|         5|         Deposit|  2000|2023-06-12 11:30:00|\n",
            "|            10|         1|         Deposit|  1200|2023-10-01 10:00:00|\n",
            "|             9|         4|      Withdrawal|  1500|2023-09-14 09:30:00|\n",
            "|             8|         2|         Deposit|  3000|2023-08-22 16:45:00|\n",
            "+--------------+----------+----------------+------+-------------------+\n",
            "\n"
          ]
        }
      ]
    },
    {
      "cell_type": "code",
      "source": [
        "#Problem 9:- Calculate the Total Withdrawals for Each Customer\n",
        "\n",
        "trans_df = df_new.join(transactions_df, 'account_id')\n",
        "trans_df2 = trans_df[trans_df['transaction_type'] == 'Withdrawal']\n",
        "trans_df3 = trans_df2.select('customer_id', 'first_name', 'last_name', 'amount')\n",
        "trans_df4 = trans_df3.groupBy('customer_id', 'first_name', 'last_name').agg(F.sum('amount').alias('total_withdrwals'))\n",
        "trans_df4.show()\n"
      ],
      "metadata": {
        "colab": {
          "base_uri": "https://localhost:8080/"
        },
        "id": "NV9AaWPP7sJd",
        "outputId": "51b40363-ad95-40a8-ce5b-8d7efcac4404"
      },
      "execution_count": 304,
      "outputs": [
        {
          "output_type": "stream",
          "name": "stdout",
          "text": [
            "+-----------+----------+---------+----------------+\n",
            "|customer_id|first_name|last_name|total_withdrwals|\n",
            "+-----------+----------+---------+----------------+\n",
            "|          3|     Alice|  Johnson|          1500.0|\n",
            "|          2|      Jane|    Smith|          1800.0|\n",
            "|          1|      John|      Doe|           500.0|\n",
            "+-----------+----------+---------+----------------+\n",
            "\n"
          ]
        }
      ]
    },
    {
      "cell_type": "code",
      "source": [
        "#Prolem 10: Find Duplicate Transactions\n",
        "\n",
        "df_dup1 = transactions_df.groupby('transaction_id').count().alias(\"duplicate_count\")\n",
        "df_dup = df_dup1.filter(col(\"count\" )> 1).alias(\"duplicate\")\n",
        "df_dup.show()"
      ],
      "metadata": {
        "colab": {
          "base_uri": "https://localhost:8080/"
        },
        "id": "O-UPRVr5_lYd",
        "outputId": "0873da1f-f764-4489-ea4f-a902340b9290"
      },
      "execution_count": 305,
      "outputs": [
        {
          "output_type": "stream",
          "name": "stdout",
          "text": [
            "+--------------+-----+\n",
            "|transaction_id|count|\n",
            "+--------------+-----+\n",
            "+--------------+-----+\n",
            "\n"
          ]
        }
      ]
    }
  ],
  "metadata": {
    "colab": {
      "provenance": [],
      "authorship_tag": "ABX9TyMwgxyXSOy9tpP0g+IzkQYZ",
      "include_colab_link": true
    },
    "kernelspec": {
      "display_name": "Python 3",
      "name": "python3"
    },
    "language_info": {
      "name": "python"
    }
  },
  "nbformat": 4,
  "nbformat_minor": 0
}